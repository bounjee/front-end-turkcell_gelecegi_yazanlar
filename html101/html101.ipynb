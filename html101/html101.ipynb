{
 "cells": [
  {
   "attachments": {},
   "cell_type": "markdown",
   "metadata": {},
   "source": [
    "\n",
    "<font color='red' size='10'>**Web Programlama 101 - HTML 101**</font>"
   ]
  },
  {
   "attachments": {},
   "cell_type": "markdown",
   "metadata": {},
   "source": [
    "HTML, Hyper Text Markup Language ifadesinden oluşturulmuş bir İngilizce kısaltmadır ve Türkçe'ye \"Hiper Metin İşaretleme Dili\" şeklinde çevrilebilir. "
   ]
  },
  {
   "attachments": {},
   "cell_type": "markdown",
   "metadata": {},
   "source": [
    "Bir işaretleme dilinin temel işlevi, bir belge içindeki metnin (text) yapısını, biçimini ve genel görünümünü tanımlayacak kuralları içermesi ve bunun uygulanmasına olanak vermesidir."
   ]
  },
  {
   "attachments": {},
   "cell_type": "markdown",
   "metadata": {},
   "source": [
    "Bir HTML belgesi etiket dediğimiz bileşenlerden oluşur. HTML yapısındaki temel bileşen bir elemandır. Elemanları anlatmak için her gün gördüğünüz başlıklar, paragraflar, listeler birer elemandır. Etiketler kullanılarak bu elemanlar birbirinden ayrılarak mantıklı hale gelirler. HTML etiketleri yapısı ise çok basittir. < (küçüktür işareti) etiket ve > (büyüktür işareti) işaretiyle belirtilir. Örneğin, paragraf belirtmek için <p> etiketini kullanırız. Paragraf etiketini kapatmak istediğimizdeyse < işareti sonrasında / işareti koymak yeterlidir.\n",
    "\n",
    "Örneklemek gerekirse,\n",
    "\n",
    "<p> paragraf paragraf paragraf paragraf paragraf paragraf paragraf paragraf </p>"
   ]
  },
  {
   "attachments": {},
   "cell_type": "markdown",
   "metadata": {},
   "source": [
    "--------------"
   ]
  },
  {
   "attachments": {},
   "cell_type": "markdown",
   "metadata": {},
   "source": [
    "Bir HTML belgesi başlıca iki kısımdan oluşur:\n",
    "\n",
    "Baş (HEAD) metni\n",
    "Gövde (BODY) metni\n",
    "Baş metni, sayfaya ait başlıkla ilişkili ifadeleri içerir.\n",
    "\n",
    "Gövde metni ise, HTML koduna ait asıl metni içerir. Bu metin,\n",
    "\n",
    "Paragraflar,\n",
    "Listeler ve\n",
    "Diğer elemanlardan oluşur."
   ]
  },
  {
   "attachments": {},
   "cell_type": "markdown",
   "metadata": {},
   "source": [
    "Tüm HTML belgeleri tip deklerasyonu ile başlamak zorundadır: <! DOCTYPE html>\n",
    "\n",
    "HTML belgeleri, <html> etiketi ile başlar ve </html> etiketi ile biter.\n",
    "\n",
    "HTML belgesi içindeki görüntülenen kısım ise <body> ve </body> etiketleri arasında yer alır."
   ]
  },
  {
   "attachments": {},
   "cell_type": "markdown",
   "metadata": {},
   "source": [
    "\n",
    "DOCTYPE deklerasyonu, web tarayıcıların bir web sitesini doğru bir şekilde göstermesini sağlamaktadır."
   ]
  },
  {
   "attachments": {},
   "cell_type": "markdown",
   "metadata": {},
   "source": [
    "-------------"
   ]
  },
  {
   "attachments": {},
   "cell_type": "markdown",
   "metadata": {},
   "source": [
    "**HEAD etiketi**: Bir HTML belgesinin ilk kısmını belirler. İçinde TITLE elemanının bulunması zorunludur. Belgenin başlığını TITLE elemanı belirler."
   ]
  },
  {
   "attachments": {},
   "cell_type": "markdown",
   "metadata": {},
   "source": [
    "**TITLE etiketi**: TITLE etiketi yardımıyla oluşturduğunuz web sayfasının başlığını belirleyebilirsiniz. Bu başlık, yukarıda görüldüğü gibi, başlık çubuğu üzerinde görüntülenecektir.\n",
    "\n",
    "Başlık içeriği, sayfanın içeriği ve işlevi ile uyumlu olmalıdır. Sayfayı tanımlayıcı nitelikte ve kısa olmalıdır."
   ]
  },
  {
   "attachments": {},
   "cell_type": "markdown",
   "metadata": {},
   "source": [
    "----------"
   ]
  },
  {
   "attachments": {},
   "cell_type": "markdown",
   "metadata": {},
   "source": [
    "**BODY etiketi**: HTML belgenizin ikinci ve en uzun parçası BODY kısmıdır. Belgenizin tüm içeriği burada yer alacaktır. Bir sonraki belgede açıklanan etiketlerin tümü BODY içinde yer alacaktır."
   ]
  },
  {
   "attachments": {},
   "cell_type": "markdown",
   "metadata": {},
   "source": [
    "**Başlıklar (Headings)**: HTML metni içinde H1 ile H6 aralığında ölçeklendirilmiş 6 farklı düzeyde başlık kullanılabilir. Burada H1 en büyük başlığı, H6 ise en küçük başlığı simgelemektedir.\n",
    "\n",
    "\\<Hx>Başlık Metni\\</Hx>"
   ]
  },
  {
   "attachments": {},
   "cell_type": "markdown",
   "metadata": {},
   "source": [
    "**Paragraflar (Paragraphs)**: Oluşturacağınız Web sayfası üzerine yerleştireceğiniz metni ayrı paragraflar şeklinde ifade etmek için \"\\<p>\"  ve \"\\</p>\" etiketlerini kullanmalısınız."
   ]
  },
  {
   "attachments": {},
   "cell_type": "markdown",
   "metadata": {},
   "source": [
    "**Listeler (Lists)**: HTML, çeşitli türlerde listelerin oluşturulabilmesine olanak sağlar. Bu liste türleri,\n",
    "\n",
    "- Numaralanmamış liste\n",
    "- Numaralanmış liste\n",
    "- Tanım listesi'dir."
   ]
  },
  {
   "attachments": {},
   "cell_type": "markdown",
   "metadata": {},
   "source": [
    "**Numaralanmamış liste**: Numaralanmamış listeyi oluşturmak için \\<ul> ve \\</ul> etiketleri kullanılır. Bu etiketler arasına liste elemanlarını yerleştirmek için \\<li> etiketi kullanılır. Bu etiketi izleyen yere liste elemanı yerleştirilmelidir. \\<li> etiketinin \\</li> etiketiyle kapatılması zorunlu değildir."
   ]
  },
  {
   "cell_type": "code",
   "execution_count": 27,
   "metadata": {
    "vscode": {
     "languageId": "html"
    }
   },
   "outputs": [
    {
     "ename": "IndentationError",
     "evalue": "unindent does not match any outer indentation level (<tokenize>, line 14)",
     "output_type": "error",
     "traceback": [
      "\u001b[1;36m  File \u001b[1;32m<tokenize>:14\u001b[1;36m\u001b[0m\n\u001b[1;33m    </body>\u001b[0m\n\u001b[1;37m    ^\u001b[0m\n\u001b[1;31mIndentationError\u001b[0m\u001b[1;31m:\u001b[0m unindent does not match any outer indentation level\n"
     ]
    }
   ],
   "source": [
    "<html>\n",
    "  <head>\n",
    "    <title>BASİT BİR HTML METNİ</title>\n",
    "  </head>\n",
    "  <body>\n",
    "       <h3>Programlama Dilleri</h3>\n",
    "        <ul>\n",
    "         <li>Fortran</li>\n",
    "         <li>Cobol</li>\n",
    "         <li>Basic</li>\n",
    "         <li>Pascal</li>\n",
    "         <li>C/C++</li>\n",
    "        </ul>\n",
    "    </body>\n",
    "  </html>"
   ]
  },
  {
   "attachments": {},
   "cell_type": "markdown",
   "metadata": {},
   "source": [
    "<html>\n",
    "  <head>\n",
    "    <title>BASİT BİR HTML METNİ</title>\n",
    "  </head>\n",
    "  <body>\n",
    "       <h3>Programlama Dilleri</h3>\n",
    "        <ul>\n",
    "         <li>Fortran</li>\n",
    "         <li>Cobol</li>\n",
    "         <li>Basic</li>\n",
    "         <li>Pascal</li>\n",
    "         <li>C/C++</li>\n",
    "        </ul>\n",
    "    </body>\n",
    "  </html>"
   ]
  },
  {
   "attachments": {},
   "cell_type": "markdown",
   "metadata": {},
   "source": [
    "**Numaralanmış Listeler**: Numaralanmış liste (numbered list ya da diğer adı ile ordered list (sıralanmış liste)) gerçekte numaralanmamış liste ile benzer yapıdadır. Tek fark, bu tip bir listede \\<ol> etiket'inin kullanılmasıdır. Diğer bir fark ise çıktıda görülür. Liste elemanlarına otomatik olarak bir numara verilmektedir."
   ]
  },
  {
   "cell_type": "code",
   "execution_count": 29,
   "metadata": {
    "vscode": {
     "languageId": "html"
    }
   },
   "outputs": [
    {
     "ename": "IndentationError",
     "evalue": "unindent does not match any outer indentation level (<tokenize>, line 14)",
     "output_type": "error",
     "traceback": [
      "\u001b[1;36m  File \u001b[1;32m<tokenize>:14\u001b[1;36m\u001b[0m\n\u001b[1;33m    </body>\u001b[0m\n\u001b[1;37m    ^\u001b[0m\n\u001b[1;31mIndentationError\u001b[0m\u001b[1;31m:\u001b[0m unindent does not match any outer indentation level\n"
     ]
    }
   ],
   "source": [
    "<html>\n",
    "  <head>\n",
    "    <title>BASİT BİR HTML METNİ</title>\n",
    "  </head>\n",
    "  <body>\n",
    "       <h3>Programlama Dilleri</h3>\n",
    "       <ol>\n",
    "        <li>Fortran</li>\n",
    "        <li>Cobol</li>\n",
    "        <li>Basic</li>\n",
    "        <li>Pascal</li>\n",
    "        <li>C/C++</li>\n",
    "       </ol>\n",
    "    </body>\n",
    "</html>"
   ]
  },
  {
   "attachments": {},
   "cell_type": "markdown",
   "metadata": {},
   "source": [
    "<html>\n",
    "  <head>\n",
    "    <title>BASİT BİR HTML METNİ</title>\n",
    "  </head>\n",
    "  <body>\n",
    "       <h3>Programlama Dilleri</h3>\n",
    "       <ol>\n",
    "        <li>Fortran</li>\n",
    "        <li>Cobol</li>\n",
    "        <li>Basic</li>\n",
    "        <li>Pascal</li>\n",
    "        <li>C/C++</li>\n",
    "       </ol>\n",
    "    </body>\n",
    "</html>"
   ]
  },
  {
   "attachments": {},
   "cell_type": "markdown",
   "metadata": {},
   "source": [
    "**İç İçe Listeler**: Listeleri iç içe de kullanabilirsiniz. Hatta, tek bir liste kalemi içinde iç içe listeler içeren paragraflar da düzenleyebilirsiniz."
   ]
  },
  {
   "cell_type": "code",
   "execution_count": 31,
   "metadata": {
    "vscode": {
     "languageId": "html"
    }
   },
   "outputs": [
    {
     "ename": "IndentationError",
     "evalue": "unindent does not match any outer indentation level (<tokenize>, line 18)",
     "output_type": "error",
     "traceback": [
      "\u001b[1;36m  File \u001b[1;32m<tokenize>:18\u001b[1;36m\u001b[0m\n\u001b[1;33m    </ul>\u001b[0m\n\u001b[1;37m    ^\u001b[0m\n\u001b[1;31mIndentationError\u001b[0m\u001b[1;31m:\u001b[0m unindent does not match any outer indentation level\n"
     ]
    }
   ],
   "source": [
    "<html>\n",
    "  <head>\n",
    "    <title>TÜRKİYE'DE BÜYÜK ŞEHİRLER VE İLÇELER</title>\n",
    "  </head>\n",
    "  <body>   \n",
    "      <h3>TÜRKİYE-ŞEHİRLER</h3>\n",
    "       <ul>\n",
    "          <li>ISTANBUL'UN ÖNEMLİ İLÇELERİ</li>\n",
    "              <ul>\n",
    "                 <li>Fatih</li>\n",
    "                 <li>Bakırköy</li>\n",
    "                 <li>Kadıköy</li>\n",
    "              </ul>\n",
    "          <li>ANKARA'NIN ÖNEMLİ İLÇELERİ</li>\n",
    "              <ul>\n",
    "                <li>Çankaya</li>\n",
    "                <li>Yenimahalle</li>\n",
    "        </ul>\n",
    "    </ul>\n",
    "  </body>\n",
    "</html>"
   ]
  },
  {
   "attachments": {},
   "cell_type": "markdown",
   "metadata": {},
   "source": [
    "<html>\n",
    "  <head>\n",
    "    <title>TÜRKİYE'DE BÜYÜK ŞEHİRLER VE İLÇELER</title>\n",
    "  </head>\n",
    "  <body>   \n",
    "      <h3>TÜRKİYE-ŞEHİRLER</h3>\n",
    "       <ul>\n",
    "          <li>ISTANBUL'UN ÖNEMLİ İLÇELERİ</li>\n",
    "              <ul>\n",
    "                 <li>Fatih</li>\n",
    "                 <li>Bakırköy</li>\n",
    "                 <li>Kadıköy</li>\n",
    "              </ul>\n",
    "          <li>ANKARA'NIN ÖNEMLİ İLÇELERİ</li>\n",
    "              <ul>\n",
    "                <li>Çankaya</li>\n",
    "                <li>Yenimahalle</li>\n",
    "        </ul>\n",
    "    </ul>\n",
    "  </body>\n",
    "</html>"
   ]
  },
  {
   "attachments": {},
   "cell_type": "markdown",
   "metadata": {},
   "source": [
    "<font color='red' size='8'>**Çok Kullanılan Body Etiketleri**</font>"
   ]
  },
  {
   "attachments": {},
   "cell_type": "markdown",
   "metadata": {},
   "source": [
    "\\<pre> etiketi\n",
    "Sabit genişlikli bir yazıtipi içinde bir metin oluşturmak istediğiniz takdirde, HTML'in \\<pre> \\</pre> etiketini kullanabilirsiniz. pre terimi, İngilizce preformatted (önceden biçimlendirilmiş) sözcüğünden alınmıştır. Bu etiket ayrıca metin içindeki boşlukları, satır başlarını ve tab'ları da anlamlı hale getirir.\n",
    "\n",
    "\\<pre> etiketi, width özelliğiyle birlikte kullanılarak bir satır içinde yer alabilecek en fazla karakter sayısı da belirlenebilir. \\<pre> \\</pre> etiketleri arasında hiperlinkler (hyperlink) kullanılabilir. Bununla birlikte, \\<pre>\\</pre> etiketleri arasında, diğer etiketlerin kullanılmasından kaçınmak gerekir."
   ]
  },
  {
   "cell_type": "code",
   "execution_count": 32,
   "metadata": {
    "vscode": {
     "languageId": "html"
    }
   },
   "outputs": [
    {
     "ename": "SyntaxError",
     "evalue": "invalid syntax (2065432130.py, line 1)",
     "output_type": "error",
     "traceback": [
      "\u001b[1;36m  Cell \u001b[1;32mIn[32], line 1\u001b[1;36m\u001b[0m\n\u001b[1;33m    <html>\u001b[0m\n\u001b[1;37m    ^\u001b[0m\n\u001b[1;31mSyntaxError\u001b[0m\u001b[1;31m:\u001b[0m invalid syntax\n"
     ]
    }
   ],
   "source": [
    "<html>\n",
    "  <head>\n",
    "  <meta charset=\"UTF-8\">\n",
    "  <title>ÜLKELER VE NÜFUSLARI</title>\n",
    "  </head>\n",
    "  \n",
    "<body>   \n",
    "    <h3>TÜRKİYE-ŞEHİRLER</h3>\n",
    "    <h3>ÜLKELER VE NÜFUSLARI</h3>\n",
    "<pre>\n",
    "ÜLKE ADI       NÜFUSU (MİLYON KİŞİ)\n",
    "TÜRKİYE           65  \n",
    "AVUSTURYA         8\n",
    "ABD               230\n",
    "ALMANYA           80\n",
    "\n",
    "<a href=\"X.htm\">DAHA FAZLA BİLGİ İÇİN</a>\n",
    "</pre>\n",
    "</body>\n",
    "\n",
    "</html>"
   ]
  },
  {
   "cell_type": "code",
   "execution_count": 33,
   "metadata": {
    "vscode": {
     "languageId": "html"
    }
   },
   "outputs": [
    {
     "ename": "SyntaxError",
     "evalue": "invalid syntax (3412943183.py, line 1)",
     "output_type": "error",
     "traceback": [
      "\u001b[1;36m  Cell \u001b[1;32mIn[33], line 1\u001b[1;36m\u001b[0m\n\u001b[1;33m    <html>\u001b[0m\n\u001b[1;37m    ^\u001b[0m\n\u001b[1;31mSyntaxError\u001b[0m\u001b[1;31m:\u001b[0m invalid syntax\n"
     ]
    }
   ],
   "source": [
    "<html>\n",
    "  <head>\n",
    "  <meta charset=\"UTF-8\">\n",
    "  <title>ÜLKELER VE NÜFUSLARI</title>\n",
    "  </head>\n",
    "  \n",
    "<body>   \n",
    "    <h3>TÜRKİYE-ŞEHİRLER</h3>\n",
    "    <h3>ÜLKELER VE NÜFUSLARI</h3>\n",
    "<pre>\n",
    "ÜLKE ADI       NÜFUSU (MİLYON KİŞİ)\n",
    "TÜRKİYE           65  \n",
    "AVUSTURYA         8\n",
    "ABD               230\n",
    "ALMANYA           80\n",
    "\n",
    "<a href=\"https://www.youtube.com/watch?v=dQw4w9WgXcQ\">DAHA FAZLA BİLGİ İÇİN</a>\n",
    "</pre>\n",
    "</body>\n",
    "\n",
    "</html>"
   ]
  },
  {
   "attachments": {},
   "cell_type": "markdown",
   "metadata": {},
   "source": [
    "<html>\n",
    "  <head>\n",
    "  <meta charset=\"UTF-8\">\n",
    "  <title>ÜLKELER VE NÜFUSLARI</title>\n",
    "  </head>\n",
    "  \n",
    "<body>   \n",
    "    <h3>TÜRKİYE-ŞEHİRLER</h3>\n",
    "    <h3>ÜLKELER VE NÜFUSLARI</h3>\n",
    "<pre>\n",
    "ÜLKE ADI       NÜFUSU (MİLYON KİŞİ)\n",
    "TÜRKİYE           65  \n",
    "AVUSTURYA         8\n",
    "ABD               230\n",
    "ALMANYA           80\n",
    "<a href=\"https://www.youtube.com/watch?v=dQw4w9WgXcQ\">DAHA FAZLA BİLGİ İÇİN</a>\n",
    "</pre>\n",
    "</body>\n",
    "</html>"
   ]
  },
  {
   "attachments": {},
   "cell_type": "markdown",
   "metadata": {},
   "source": [
    "**\\<br> etiketi**: \\<br> etiketi, bulunduğu konumdan itibaren bir satırı sona erdirerek yeni bir satırın başına geçilmesini sağlar."
   ]
  },
  {
   "cell_type": "code",
   "execution_count": 34,
   "metadata": {
    "vscode": {
     "languageId": "html"
    }
   },
   "outputs": [
    {
     "ename": "SyntaxError",
     "evalue": "invalid syntax (568260336.py, line 1)",
     "output_type": "error",
     "traceback": [
      "\u001b[1;36m  Cell \u001b[1;32mIn[34], line 1\u001b[1;36m\u001b[0m\n\u001b[1;33m    <html>\u001b[0m\n\u001b[1;37m    ^\u001b[0m\n\u001b[1;31mSyntaxError\u001b[0m\u001b[1;31m:\u001b[0m invalid syntax\n"
     ]
    }
   ],
   "source": [
    "<html>\n",
    "  <head>\n",
    "  <meta charset=\"UTF-8\">\n",
    "  <title>ÜLKELER VE NÜFUSLARI</title>\n",
    "    </head>\n",
    "  <body>   \n",
    "    <h3>ÜLKELER VE NÜFUSLARI</h3>\n",
    "    <p>Avusturya 8 milyon nüfuslu bir Orta Avrupa <br>ülkesidir.\n",
    "    Almanca resmi dilidir. Doğası itibariyle <br>dünyanın en güzel \n",
    "    ülkelerinden biridir.</p>\n",
    "    <p>Macaristan bir diğer Orta Avrupa <br>ülkesidir.\n",
    "    Nüfusu 10 milyondur. Komşuları genelde dağlık <br>birer ülke \n",
    "    olmalarına karşın Macaristan düz ovaları ve atlarıyla ünlüdür.</p>\n",
    "    </body>\n",
    "</html>"
   ]
  },
  {
   "cell_type": "markdown",
   "metadata": {},
   "source": [
    "<html>\n",
    "  <head>\n",
    "  <meta charset=\"UTF-8\">\n",
    "  <title>ÜLKELER VE NÜFUSLARI</title>\n",
    "    </head>\n",
    "  <body>   \n",
    "    <h3>ÜLKELER VE NÜFUSLARI</h3>\n",
    "   <p>Avusturya 8 milyon nüfuslu bir Orta Avrupa <br>ülkesidir.\n",
    "   Almanca resmi dilidir. Doğası itibariyle <br>dünyanın en güzel \n",
    "ülkelerinden biridir.</p>\n",
    "  <p>Macaristan bir diğer Orta Avrupa <br>ülkesidir.\n",
    "  Nüfusu 10 milyondur. Komşuları genelde dağlık <br>birer ülke \n",
    "olmalarına karşın Macaristan düz ovaları ve atlarıyla ünlüdür.</p>\n",
    "    </body>\n",
    "</html>"
   ]
  },
  {
   "attachments": {},
   "cell_type": "markdown",
   "metadata": {},
   "source": [
    "**\\<hr> etiketi**: \\<hr> etiketi, tarayıcı penceresinde yatay bir çizgi üretir. Bu çizginin uzunluğu kod içinde belirtilebilir."
   ]
  },
  {
   "cell_type": "code",
   "execution_count": 36,
   "metadata": {
    "vscode": {
     "languageId": "html"
    }
   },
   "outputs": [
    {
     "ename": "IndentationError",
     "evalue": "unindent does not match any outer indentation level (<tokenize>, line 8)",
     "output_type": "error",
     "traceback": [
      "\u001b[1;36m  File \u001b[1;32m<tokenize>:8\u001b[1;36m\u001b[0m\n\u001b[1;33m    <p><hr>\u001b[0m\n\u001b[1;37m    ^\u001b[0m\n\u001b[1;31mIndentationError\u001b[0m\u001b[1;31m:\u001b[0m unindent does not match any outer indentation level\n"
     ]
    }
   ],
   "source": [
    "<html>\n",
    "  <head>\n",
    "  <meta charset=\"UTF-8\">\n",
    "  <title>ÜLKELER VE NÜFUSLARI</title>\n",
    "    </head>\n",
    "  <body>   \n",
    "    <h3>ÜLKELER VE NÜFUSLARI</h3>\n",
    "   <p><hr>\n",
    "   Avusturya 8 milyon nüfuslu bir Orta Avrupa <br>ülkesidir.\n",
    "   Almanca resmi dilidir. Doğası itibariyle <br>dünyanın en güzel \n",
    "ülkelerinden biridir.</p>\n",
    "  <p><hr>\n",
    "  Macaristan bir diğer Orta Avrupa <br>ülkesidir.\n",
    "  Nüfusu 10 milyondur. Komşuları genelde dağlık <br>birer ülke \n",
    "olmalarına karşın Macaristan düz ovaları ve atlarıyla ünlüdür.</p>\n",
    " </body>\n",
    "</html>"
   ]
  },
  {
   "cell_type": "markdown",
   "metadata": {},
   "source": [
    "<html>\n",
    "  <head>\n",
    "  <meta charset=\"UTF-8\">\n",
    "  <title>ÜLKELER VE NÜFUSLARI</title>\n",
    "    </head>\n",
    "  <body>   \n",
    "    <h3>ÜLKELER VE NÜFUSLARI</h3>\n",
    "   <p><hr>\n",
    "   Avusturya 8 milyon nüfuslu bir Orta Avrupa <br>ülkesidir.\n",
    "   Almanca resmi dilidir. Doğası itibariyle <br>dünyanın en güzel \n",
    "ülkelerinden biridir.</p>\n",
    "  <p><hr>\n",
    "  Macaristan bir diğer Orta Avrupa <br>ülkesidir.\n",
    "  Nüfusu 10 milyondur. Komşuları genelde dağlık <br>birer ülke \n",
    "olmalarına karşın Macaristan düz ovaları ve atlarıyla ünlüdür.</p>\n",
    " </body>\n",
    "</html>"
   ]
  },
  {
   "attachments": {},
   "cell_type": "markdown",
   "metadata": {},
   "source": [
    "**\\<em> etiketi**: Bir metnin istenilen kısmını belirgin hale getirmek için kullanılır.<em> ve </em> etiketleri arasındaki kısım tipik olarak italik biçimde görüntülenir."
   ]
  },
  {
   "cell_type": "code",
   "execution_count": 37,
   "metadata": {
    "vscode": {
     "languageId": "html"
    }
   },
   "outputs": [
    {
     "ename": "SyntaxError",
     "evalue": "invalid syntax (916159334.py, line 1)",
     "output_type": "error",
     "traceback": [
      "\u001b[1;36m  Cell \u001b[1;32mIn[37], line 1\u001b[1;36m\u001b[0m\n\u001b[1;33m    <html>\u001b[0m\n\u001b[1;37m    ^\u001b[0m\n\u001b[1;31mSyntaxError\u001b[0m\u001b[1;31m:\u001b[0m invalid syntax\n"
     ]
    }
   ],
   "source": [
    "<html>\n",
    "  <head>\n",
    "  <meta charset=\"UTF-8\">\n",
    "  <title>ALGORİTMA TANIMI</title>\n",
    "    </head>\n",
    "  <body>   \n",
    "    <dfn>ALGORİTMA </dfn>\n",
    "    <p>Algoritma bir problemi çözmek için izlenmesi gereken<em> işlem adımları kümesidir.</em></p>\n",
    "    </body>\n",
    "</html>"
   ]
  },
  {
   "attachments": {},
   "cell_type": "markdown",
   "metadata": {},
   "source": [
    "<html>\n",
    "  <head>\n",
    "  <meta charset=\"UTF-8\">\n",
    "  <title>ALGORİTMA TANIMI</title>\n",
    "    </head>\n",
    "  <body>   \n",
    "    <dfn>ALGORİTMA </dfn>\n",
    "    <p>Algoritma bir problemi çözmek için izlenmesi gereken<em> işlem adımları kümesidir.</em></p>\n",
    "    </body>\n",
    "</html>"
   ]
  },
  {
   "attachments": {},
   "cell_type": "markdown",
   "metadata": {},
   "source": [
    "**\\<s> ve \\<strike> etiketleri**: Uygulandıkları metnin üzerine bir çizgi çizilmesini sağlarlar."
   ]
  },
  {
   "cell_type": "code",
   "execution_count": 38,
   "metadata": {
    "vscode": {
     "languageId": "html"
    }
   },
   "outputs": [
    {
     "ename": "SyntaxError",
     "evalue": "invalid syntax (2149404012.py, line 1)",
     "output_type": "error",
     "traceback": [
      "\u001b[1;36m  Cell \u001b[1;32mIn[38], line 1\u001b[1;36m\u001b[0m\n\u001b[1;33m    <html>\u001b[0m\n\u001b[1;37m    ^\u001b[0m\n\u001b[1;31mSyntaxError\u001b[0m\u001b[1;31m:\u001b[0m invalid syntax\n"
     ]
    }
   ],
   "source": [
    "<html>\n",
    "  <head>\n",
    "  <meta charset=\"UTF-8\">\n",
    "  <title></title>\n",
    "    </head>\n",
    "  <body>\n",
    "    <h3> TEKNOKRATLAR </h3> \n",
    "     <s>Bütün mimarlar</s> yüksek, mühendisler de <br>\n",
    "     Bir sen kaldın<strike> alçak mimar</strike> ey Sinan Usta!<br>\n",
    "Cemal Süreya\n",
    "    </bod"
   ]
  },
  {
   "attachments": {},
   "cell_type": "markdown",
   "metadata": {},
   "source": [
    "<html>\n",
    "  <head>\n",
    "  <meta charset=\"UTF-8\">\n",
    "  <title></title>\n",
    "    </head>\n",
    "  <body>\n",
    "    <h3> TEKNOKRATLAR </h3> \n",
    "     <s>Bütün mimarlar</s> yüksek, mühendisler de <br>\n",
    "     Bir sen kaldın<strike> alçak mimar</strike> ey Sinan Usta!<br>\n",
    "Cemal Süreya\n",
    "    </bod"
   ]
  },
  {
   "attachments": {},
   "cell_type": "markdown",
   "metadata": {},
   "source": [
    "**\\<strong> etiketi**: İşaret edilen metni özellikle vurgulamak için kullanılır. Bu vurgulama bold (koyu) yazı karakteriyle gerçekleştirilir."
   ]
  },
  {
   "cell_type": "code",
   "execution_count": 39,
   "metadata": {
    "vscode": {
     "languageId": "html"
    }
   },
   "outputs": [
    {
     "ename": "SyntaxError",
     "evalue": "invalid syntax (2999803446.py, line 1)",
     "output_type": "error",
     "traceback": [
      "\u001b[1;36m  Cell \u001b[1;32mIn[39], line 1\u001b[1;36m\u001b[0m\n\u001b[1;33m    <html>\u001b[0m\n\u001b[1;37m    ^\u001b[0m\n\u001b[1;31mSyntaxError\u001b[0m\u001b[1;31m:\u001b[0m invalid syntax\n"
     ]
    }
   ],
   "source": [
    "<html>\n",
    "  <head>\n",
    "  <meta charset=\"UTF-8\">\n",
    "  <title>ÖRNEKLER</title>\n",
    "    </head>\n",
    "  <body>\n",
    "    <h3> DİVAN EDEBİYATI </h3> \n",
    "    <dfn>FUZULİ</dfn><br><br>\n",
    "    <strong>Öyle sermestemki idrak etmezem dünya nedür<br>\n",
    "            Men kimem saki olan kimdür mey-i sahbah nedür</strong>\n",
    "    </body>\n",
    "</html>"
   ]
  },
  {
   "cell_type": "markdown",
   "metadata": {},
   "source": [
    "<html>\n",
    "  <head>\n",
    "  <meta charset=\"UTF-8\">\n",
    "  <title>ÖRNEKLER</title>\n",
    "    </head>\n",
    "  <body>\n",
    "    <h3> DİVAN EDEBİYATI </h3> \n",
    "    <dfn>FUZULİ</dfn><br><br>\n",
    "    <strong>Öyle sermestemki idrak etmezem dünya nedür<br>\n",
    "            Men kimem saki olan kimdür mey-i sahbah nedür</strong>\n",
    "    </body>\n",
    "</html>"
   ]
  },
  {
   "attachments": {},
   "cell_type": "markdown",
   "metadata": {},
   "source": [
    "**\\<u> etiketi**: İşaretlediği metnin altına bir alt çizgi çekilmesini sağlar."
   ]
  },
  {
   "cell_type": "code",
   "execution_count": 40,
   "metadata": {
    "vscode": {
     "languageId": "html"
    }
   },
   "outputs": [
    {
     "ename": "SyntaxError",
     "evalue": "invalid syntax (2310389337.py, line 1)",
     "output_type": "error",
     "traceback": [
      "\u001b[1;36m  Cell \u001b[1;32mIn[40], line 1\u001b[1;36m\u001b[0m\n\u001b[1;33m    <html>\u001b[0m\n\u001b[1;37m    ^\u001b[0m\n\u001b[1;31mSyntaxError\u001b[0m\u001b[1;31m:\u001b[0m invalid syntax\n"
     ]
    }
   ],
   "source": [
    "<html>\n",
    "  <head>\n",
    "  <meta charset=\"UTF-8\">\n",
    "  <title>ÖRNEKLER</title>\n",
    "    </head>\n",
    "  <body>\n",
    "    <h3> ÖNCE <u>DÜRÜST</u> OLUNUZ </h3> \n",
    "     <h3>BUNUN DIŞINDAKİ <u>HER ŞEY İKİNCİ PLANDADIR</u> </h3> \n",
    "  </body>    \n",
    "  </html>"
   ]
  },
  {
   "cell_type": "markdown",
   "metadata": {},
   "source": [
    "<html>\n",
    "  <head>\n",
    "  <meta charset=\"UTF-8\">\n",
    "  <title>ÖRNEKLER</title>\n",
    "    </head>\n",
    "  <body>\n",
    "    <h3> ÖNCE <u>DÜRÜST</u> OLUNUZ </h3> \n",
    "     <h3>BUNUN DIŞINDAKİ <u>HER ŞEY İKİNCİ PLANDADIR</u> </h3> \n",
    "  </body>    \n",
    "  </html>"
   ]
  },
  {
   "attachments": {},
   "cell_type": "markdown",
   "metadata": {},
   "source": [
    "<font color='red' size='8'>**Çeşitli Yazı Biçimlendirmeleri**</font>"
   ]
  },
  {
   "attachments": {},
   "cell_type": "markdown",
   "metadata": {},
   "source": [
    "**\\<b> etiketi**: \\<b> ve \\</b> etiketleri arasına alınan metin, koyu (bold) hale getirilir."
   ]
  },
  {
   "cell_type": "code",
   "execution_count": 41,
   "metadata": {
    "vscode": {
     "languageId": "html"
    }
   },
   "outputs": [
    {
     "ename": "SyntaxError",
     "evalue": "invalid syntax (2815679325.py, line 1)",
     "output_type": "error",
     "traceback": [
      "\u001b[1;36m  Cell \u001b[1;32mIn[41], line 1\u001b[1;36m\u001b[0m\n\u001b[1;33m    <html>\u001b[0m\n\u001b[1;37m    ^\u001b[0m\n\u001b[1;31mSyntaxError\u001b[0m\u001b[1;31m:\u001b[0m invalid syntax\n"
     ]
    }
   ],
   "source": [
    "<html>\n",
    "  <head>\n",
    "   <title>Modern Türk Edebiyatı</title>\n",
    "  </head>\n",
    "  <body>\n",
    "    <h3>Attila İlhan</h3>\n",
    "    Ne <b>kadınlar sevdim</b>,zaten <b>yoktular</b><br>\n",
    "    Böyle bir sevmek <b>görülmemiştir</b>\n",
    "  </body>\n",
    "</html>"
   ]
  },
  {
   "attachments": {},
   "cell_type": "markdown",
   "metadata": {},
   "source": [
    "<html>\n",
    "  <head>\n",
    "   <title>Modern Türk Edebiyatı</title>\n",
    "  </head>\n",
    "  <body>\n",
    "    <h3>Attila İlhan</h3>\n",
    "    Ne <b>kadınlar sevdim</b>,zaten <b>yoktular</b><br>\n",
    "    Böyle bir sevmek <b>görülmemiştir</b>\n",
    "  </body>\n",
    "</html>"
   ]
  },
  {
   "attachments": {},
   "cell_type": "markdown",
   "metadata": {},
   "source": [
    "**\\<i> etiketi**: \\<i> ve \\</i> etiketleri arasına alınan metin, italik (eğik yazı biçimi) hale getirilir."
   ]
  },
  {
   "attachments": {},
   "cell_type": "markdown",
   "metadata": {},
   "source": [
    "**\\<u> etiketi**: İşaretlediği metnin altına alt çizgi çekilmesini sağlar."
   ]
  },
  {
   "attachments": {},
   "cell_type": "markdown",
   "metadata": {},
   "source": [
    "<font color='red' size='8'>**Link Oluşturmak**</font>"
   ]
  },
  {
   "attachments": {},
   "cell_type": "markdown",
   "metadata": {},
   "source": [
    "- \\<a sembolü ile başlanır.\n",
    "\n",
    "- href=\"DosyaAdı\" ifadesi yerleştirilir. Burada DosyaAdı parametresi, oluşturulan link yardımıyla çağrılacak olan dosyanın adıdır.\n",
    "\n",
    "- \\> sembolünü yerleştiriniz.\n",
    "\n",
    "- Linki oluşturacak metni giriniz.\n",
    "\n",
    "- \\</A> etiketiyle ifadeyi tamamlayınız.\n"
   ]
  },
  {
   "cell_type": "code",
   "execution_count": 42,
   "metadata": {
    "vscode": {
     "languageId": "html"
    }
   },
   "outputs": [
    {
     "ename": "SyntaxError",
     "evalue": "invalid syntax (3328207451.py, line 1)",
     "output_type": "error",
     "traceback": [
      "\u001b[1;36m  Cell \u001b[1;32mIn[42], line 1\u001b[1;36m\u001b[0m\n\u001b[1;33m    <a href=\"http://gelecegiyazanlar.turkcell.com.tr\">Anasayfa</a>\u001b[0m\n\u001b[1;37m    ^\u001b[0m\n\u001b[1;31mSyntaxError\u001b[0m\u001b[1;31m:\u001b[0m invalid syntax\n"
     ]
    }
   ],
   "source": [
    "<a href=\"http://gelecegiyazanlar.turkcell.com.tr\">Anasayfa</a>\n"
   ]
  },
  {
   "attachments": {},
   "cell_type": "markdown",
   "metadata": {},
   "source": [
    "<a href=\"http://gelecegiyazanlar.turkcell.com.tr\">Link'e Tıkla</a>\n"
   ]
  },
  {
   "attachments": {},
   "cell_type": "markdown",
   "metadata": {},
   "source": [
    "**URL yapısı**: URL, bir adres bilgisidir. Web tarayıcıya işaret edilen dosyanın nerede bulunduğunu gösterir. URL'ler, dosyaların Web ya da yerel sabit diskiniz üzerindeki yerini işaret eder.\n",
    "\n",
    "Bir URL'in genel yapısı aşağıdaki gibi üç kısımdan oluşur:\n",
    "\n",
    "Erişilecek olan kaynağın tipi (Web, FTP vb.)\n",
    "Sunucunun adresi\n",
    "Dosyanın yeri\n",
    "Bir URL'in yazılış biçimi aşağıdaki gibidir:\n",
    "\n",
    "KaynakTipi://host.saha [:port]/yol/DosyaAdı\n",
    "KaynakTipi parametresi aşağıdakilerden biri olabilir:\n",
    "\n",
    "file: Yerel sisteminizdeki bir dosya adıdır. Yerel erişim söz konusudur.\n",
    "ftp: Erişilecek kaynak bir FTP sunucusundaki dosyadır.\n",
    "http: Erişilecek kaynak World Wide Web üzerindeki bir sunucuda bulunan dosyadır."
   ]
  },
  {
   "attachments": {},
   "cell_type": "markdown",
   "metadata": {},
   "source": [
    "**Target özelliği**: Target özelliği sayesinde, bağlanan web sitesinin nerede açılacağını belirleyebilirsiniz. Örneğin adresin yeni bir sayfada açılmasını sağlamak için aşağıdaki HTML kodunu girmek gerekir."
   ]
  },
  {
   "attachments": {},
   "cell_type": "markdown",
   "metadata": {},
   "source": [
    "**Özellik**\t    **Tanım**\n",
    "\n",
    "**_blank:**  \t      sayfayı yeni bir pencere ya da sekmede açar.\n",
    "\n",
    "**_self:** \t    sayfayı aynı çerçevede açar. (öntanımlı olan özelliktir)\n",
    "\n",
    "**_parent:**      sayfayı bir üst çerçevede açar.\n",
    "\n",
    "**_top:** \t    sayfayı en üst çerçevede açar."
   ]
  },
  {
   "attachments": {},
   "cell_type": "markdown",
   "metadata": {},
   "source": [
    "<font color='red' size='8'>**HTML'de Görseller**</font>"
   ]
  },
  {
   "attachments": {},
   "cell_type": "markdown",
   "metadata": {},
   "source": [
    "Tarayıcılar resim ve görüntü dosyalarını gösterebilir. İnternet'te yaygın olarak kullanılan dosya tipleri bitmap (.bmp), GIF, JPEG ve PNG şeklinde sıralanabilir. Bu eğitim içeriğinde web sayfanıza bir görseli nasıl ekleyeceğinizi göreceksiniz.\n",
    "\n",
    "Kod şablonumuz şu şekilde olacak:\n",
    "\n",
    "\\<img src=\"resimkonumu/resimadi\">\n"
   ]
  },
  {
   "attachments": {},
   "cell_type": "markdown",
   "metadata": {},
   "source": [
    "**Görsellerin boyutunu ayarlamak**: Görüntülenecek olan görselin boyutları HTML kodu içinde belirtilebilir. height parametresiyle görselin piksel cinsinden yüksekliğini ve width parametresiyle de piksel cinsinden genişliğini belirtebilirsiniz.\n",
    "\n",
    "\\<img src=\"https://gelecegiyazanlar.turkcell.com.tr/sites/default/files/2014_degerlendirme.jpg\" width=\"50\" height=\"50\" />\n"
   ]
  },
  {
   "cell_type": "markdown",
   "metadata": {},
   "source": [
    "**Görselin sayfa üzerindeki konumunun belirlenmesi**: Görselin sayfa üzerindeki konumunun belirlenmesi için align parametresini kullanabilirsiniz. Sola yaslamak için left, sağa yaslamak için right, ortalamak için center, üst için top, alt için ise bottom şeklinde konum tanımlanız yeterli olacaktır.\n",
    "\n",
    "Örneğin sırasıyla,"
   ]
  },
  {
   "cell_type": "code",
   "execution_count": 43,
   "metadata": {
    "vscode": {
     "languageId": "html"
    }
   },
   "outputs": [
    {
     "ename": "SyntaxError",
     "evalue": "invalid syntax (2458798939.py, line 1)",
     "output_type": "error",
     "traceback": [
      "\u001b[1;36m  Cell \u001b[1;32mIn[43], line 1\u001b[1;36m\u001b[0m\n\u001b[1;33m    <img src=\"https://gelecegiyazanlar.turkcell.com.tr/sites/default/files/2014_degerlendirme.jpg\" align=\"left\" />\u001b[0m\n\u001b[1;37m    ^\u001b[0m\n\u001b[1;31mSyntaxError\u001b[0m\u001b[1;31m:\u001b[0m invalid syntax\n"
     ]
    }
   ],
   "source": [
    "<img src=\"https://gelecegiyazanlar.turkcell.com.tr/sites/default/files/2014_degerlendirme.jpg\" align=\"left\" />\n",
    "<img src=\"https://gelecegiyazanlar.turkcell.com.tr/sites/default/files/2014_degerlendirme.jpg\" align=\"right\" />\n",
    "<img src=\"https://gelecegiyazanlar.turkcell.com.tr/sites/default/files/2014_degerlendirme.jpg\" align=\"center\" />\n",
    "<img src=\"https://gelecegiyazanlar.turkcell.com.tr/sites/default/files/2014_degerlendirme.jpg\" align=\"top\" />\n",
    "<img src=\"https://gelecegiyazanlar.turkcell.com.tr/sites/default/files/2014_degerlendirme.jpg\" align=\"bottom\" />"
   ]
  },
  {
   "attachments": {},
   "cell_type": "markdown",
   "metadata": {},
   "source": [
    "<font color='red' size='8'>**Çerçeve ve Alternatif Metin Ekleme**</font>"
   ]
  },
  {
   "attachments": {},
   "cell_type": "markdown",
   "metadata": {},
   "source": [
    "Görselin çerçeve kalınlığının belirlenmesi\n",
    "Web sayfası üzerinde görüntülenecek olan görselin çerçeve kalınlığı border= parametresiyle belirlenebilir. Oluşturulacak çerçevenin kalınlığını piksel cinsinden belirtebilirsiniz.\n",
    "\n",
    "Örnek bir kullanımı aşağıdaki örnekte görebilirsiniz:\n",
    "\n",
    "\\<img src=\"https://gelecegiyazanlar.turkcell.com.tr/sites/default/files/2014_degerlendirme.jpg\" border=\"5\">"
   ]
  },
  {
   "attachments": {},
   "cell_type": "markdown",
   "metadata": {},
   "source": [
    "**Bir görseli hiperlink olarak kullanma**: Bir görseli bir hipermetin link (bağlantı) oluşturmak için kullanılabilir. Bu sayede kullanıcılar bir görsele tıkladıklarında farklı bir adrese ya da o görselin daha büyük haline yönlendirilebilirler.\n",
    "\n",
    "Bir bağlantıya dönüştürülmüş olan görsellerin etrafı öntanımlı olarak mavi renge boyanır.\n",
    "\n",
    "Örnek bir kodu aşağıda görebilirsiniz:\n",
    "\n",
    "\\<a href=\"https://gelecegiyazanlar.turkcell.com.tr\">\n",
    "\\<img src=\"https://gelecegiyazanlar.turkcell.com.tr/sites/default/files/2014_degerlendirme.jpg\" alt=\"Geleceği Yazanlar Ana Sayfa\" width=\"100\" height=\"100\" border=\"3\">\n",
    "\\</a>"
   ]
  },
  {
   "attachments": {},
   "cell_type": "markdown",
   "metadata": {},
   "source": [
    "<font color='red' size='8'>**HTML Stilleri**</font>"
   ]
  },
  {
   "attachments": {},
   "cell_type": "markdown",
   "metadata": {},
   "source": [
    "**Arka plan renginin değiştirilmesi**: Arka plan rengini değiştirmek için bgcolor özelliğini kullanmalısınız. Aşağıdaki örnekte ayrıntılı şekilde görebilirsiniz:\n",
    "\n",
    "  \\<body bgcolor=\"red\" >"
   ]
  },
  {
   "attachments": {},
   "cell_type": "markdown",
   "metadata": {},
   "source": [
    "**Kullanılan metin renklerinin değiştirilmesi**: Kullanılan metin renklerinin değiştirilmesi için text sıfatını kullanmanız yeterlidir. Aşağıdaki örnekte kullanımını ayrıntılı şekilde görebilirsiniz:\n",
    "\n",
    "  \\<body text=\"red\">"
   ]
  },
  {
   "attachments": {},
   "cell_type": "markdown",
   "metadata": {},
   "source": [
    "<font color='red' size='8'>**HTML Tablolar**</font>"
   ]
  },
  {
   "cell_type": "code",
   "execution_count": 44,
   "metadata": {
    "vscode": {
     "languageId": "html"
    }
   },
   "outputs": [
    {
     "ename": "SyntaxError",
     "evalue": "invalid syntax (3605476132.py, line 1)",
     "output_type": "error",
     "traceback": [
      "\u001b[1;36m  Cell \u001b[1;32mIn[44], line 1\u001b[1;36m\u001b[0m\n\u001b[1;33m    Tablo etiketleri\u001b[0m\n\u001b[1;37m          ^\u001b[0m\n\u001b[1;31mSyntaxError\u001b[0m\u001b[1;31m:\u001b[0m invalid syntax\n"
     ]
    }
   ],
   "source": [
    "Tablo etiketleri\n",
    "table etiketi: [code]<table> </table>[/code] HTML kodu içinde bir tablo tanımlar. Şayet border parametresi tanımlanmışsa tarayıcı tabloyu çevre sınırları ile görüntüler.\n",
    "caption etiketi: [code]<caption> </caption>[/code] tablonun başlığı için bir ifade tanımlar. Tablo başlığının öntanımlı konumu, tablonun üstünde ve ortalanmış durumdadır.\n",
    "tr etiketi: [code]<tr> </tr>[/code] Tablo içinde bir tablo satırını tanımlar.\n",
    "th etiketi: [code]<th> </th>[/code] bir tablo başlık hücresi tanımlar. Öntanımlı olarak bu hücredeki metin ortalanmış ve koyu (bold) renklidir.\n",
    "td etiketi: [code]<td></td>[/code] Bir tablo hücresi tanımlar. Öntanımlı olarak bu hücre içindeki metin sola yanaşık ve düşeyde ortalanmış vaziyettedir."
   ]
  },
  {
   "attachments": {},
   "cell_type": "markdown",
   "metadata": {},
   "source": [
    "**Tablo özellikleri**: \n",
    "\n",
    "**Align parametresi:** Bir hücre verisinin yatay konumunu belirler. Left, Right, Center parametrelerini kullanarak belirtirsiniz.\n",
    "\n",
    "**Valign parametresi:** Bir hücre verisinin düşey konumunu belirler. Top, Middle, Bottom parametrelerini kullanarak belirtirsiniz.\n",
    "\n",
    "**Colspan parametresi:** Bir hücrenin kapsadığı sütun sayısıdır. Belirttiğiniz kadar sütun oluşmasını sağlar.\n",
    "\n",
    "**Rowspan parametresi:** Hücrenin kapsadığı satır sayısıdır. Belirttiğiniz kadar satır oluşmasını sağlar.\n",
    "\n",
    "**Nowrap parametresi:** Otomatik metin akışını iptal eder."
   ]
  },
  {
   "cell_type": "code",
   "execution_count": null,
   "metadata": {
    "vscode": {
     "languageId": "html"
    }
   },
   "outputs": [
    {
     "ename": "SyntaxError",
     "evalue": "invalid syntax (839334349.py, line 1)",
     "output_type": "error",
     "traceback": [
      "\u001b[1;36m  Cell \u001b[1;32mIn[22], line 1\u001b[1;36m\u001b[0m\n\u001b[1;33m    <html>\u001b[0m\n\u001b[1;37m    ^\u001b[0m\n\u001b[1;31mSyntaxError\u001b[0m\u001b[1;31m:\u001b[0m invalid syntax\n"
     ]
    }
   ],
   "source": [
    "<html>\n",
    "<head>\n",
    "<title>TABLO UYGULAMASI</title>\n",
    "</head>\n",
    "<body>\n",
    "<table border=\"2\">\n",
    "\n",
    "<!-- tablo tanımı başlangıcı -->\n",
    "<caption> ÜLKELER VE NÜFUSLARI </caption>  \n",
    " \n",
    "<!-- başlık tanımı -->\n",
    "<tr>  \n",
    "\n",
    "<!-- başlık satırı tanımı -->\n",
    "<th>ÜLKE ADI</th>    \n",
    "<th>NÜFUSU</th>    \n",
    "</tr> \n",
    "\n",
    "<!-- başlık satırı tanımının sonu -->\n",
    "<tr>  \n",
    "\n",
    "<!-- ilk satır tanımı -->\n",
    "<td>AVUSTURYA </td>\n",
    "<td>8,000,000</td>    \n",
    "</tr> \n",
    "\n",
    "<!-- ilk satır tanımının sonu -->\n",
    "<tr>  \n",
    "<td>ALMANYA</td>\n",
    "<td>80,000,000</td>    \n",
    "</tr> \n",
    "<tr>  \n",
    "\n",
    "<!-- son satır tanımının başlangıcı -->\n",
    "<td>TÜRKİYE</td>\n",
    "<td>73,000,000</td>    \n",
    "</tr> \n",
    "\n",
    "<!-- son satır tanımının sonu -->\n",
    "</table>\n",
    "\n",
    "<!-- tablo tanımının sonu -->\n",
    "</body>\n",
    "</html>"
   ]
  },
  {
   "attachments": {},
   "cell_type": "markdown",
   "metadata": {},
   "source": [
    "<html>\n",
    "<head>\n",
    "<title>TABLO UYGULAMASI</title>\n",
    "</head>\n",
    "<body>\n",
    "<table border=\"2\">\n",
    "\n",
    "<!-- tablo tanımı başlangıcı -->\n",
    "<caption> ÜLKELER VE NÜFUSLARI </caption>  \n",
    " \n",
    "<!-- başlık tanımı -->\n",
    "<tr>  \n",
    "\n",
    "<!-- başlık satırı tanımı -->\n",
    "<th>ÜLKE ADI</th>    \n",
    "<th>NÜFUSU</th>    \n",
    "</tr> \n",
    "\n",
    "<!-- başlık satırı tanımının sonu -->\n",
    "<tr>  \n",
    "\n",
    "<!-- ilk satır tanımı -->\n",
    "<td>AVUSTURYA </td>\n",
    "<td>8,000,000</td>    \n",
    "</tr> \n",
    "\n",
    "<!-- ilk satır tanımının sonu -->\n",
    "<tr>  \n",
    "<td>ALMANYA</td>\n",
    "<td>80,000,000</td>    \n",
    "</tr> \n",
    "<tr>  \n",
    "\n",
    "<!-- son satır tanımının başlangıcı -->\n",
    "<td>TÜRKİYE</td>\n",
    "<td>73,000,000</td>    \n",
    "</tr> \n",
    "\n",
    "<!-- son satır tanımının sonu -->\n",
    "</table>\n",
    "\n",
    "<!-- tablo tanımının sonu -->\n",
    "</body>\n",
    "</html>"
   ]
  },
  {
   "attachments": {},
   "cell_type": "markdown",
   "metadata": {},
   "source": [
    "<font color='red' size='8'>**HTML Formlar**</font>"
   ]
  },
  {
   "attachments": {},
   "cell_type": "markdown",
   "metadata": {},
   "source": [
    "HTML formları kullanıcıdan veri almak için kullanılır. \n",
    "\n",
    "\\<form> etiketi bir form tanımlar ve burada kullanılacak diğer etiketlerle birlikte kullanıcıdan veri alınmasına yardımcı olur."
   ]
  },
  {
   "attachments": {},
   "cell_type": "markdown",
   "metadata": {},
   "source": [
    "En basit haliyle bir form oluşturalım:\n",
    "\n",
    "\\<form>\n",
    "<!-- Form elemanları -->\n",
    "\\</form>\n",
    " \n",
    "\n",
    "**Input etiketi**: Input etiketi en önemli form elemanıdır. Tip belirteçlerini kullanarak aşağıda ayrıntısıyla anlattığımız elemanları kullanabilirsiniz:\n",
    "\n",
    "**Metin Alanı (Text Field):** Kısa metin girişlerini yüklemek için kullanılabilecek olan alanlardır. İsimler, arama anahtarları adresleri girmek için kullanılır.\n",
    "\n",
    "**Seçme Listeleri (Select List):** Seçme listesi, kullanıcının içinden bir ya da daha fazla elemanı seçebileceği veri listeleridir. Uzun fakat sonlu bir seçenekler listesi sunmak amacıyla kullanılabilir. Örneğin bir ülkeler listesinden ülke seçmek ya da bir yazıcılar listesinden yazıcı seçmek gibi eylemler bu elemanın kullanılmasını gerektirir.\n",
    "\n",
    "**Denetim Kutusu (Checkbox):** Denetim kutusu, web sayfasını ziyaret eden İnternet kullanıcılarının bir veriler listesinden,\n",
    "\n",
    "bir tek veri,\n",
    "birden çok veri seçmek ya da,\n",
    "hiçbir veri seçmemek olanağı sağlayan kontrol nesnesidir.\n",
    "Genellikle birden çok veriyi seçmek için kullanılır.\n",
    "\n",
    "**Radyo düğmesi (Radio button):** Kullanıcılara tek bir seçim yapma olanağı veren kontrol nesnesidir.\n",
    "\n",
    "**Metin bölgesi (TextArea):** Normalden uzun olan metinler için kullanılabilecek olan kontrol nesnesidir. Serbest biçimli cevaplar için kullanılabilir.\n",
    "\n",
    "**Submit ve Reset düğmeleri:** Submit (Gönder) düğmesiyle form üzerine girilen bilgi işlenmesi için URL'i verilen sunucu sayfasına gönderilir. Reset (Sıfırla ya da Temizle) düğmesiyle form içindeki bilgi silinerek başlangıç konumuna getirilir."
   ]
  },
  {
   "cell_type": "code",
   "execution_count": 46,
   "metadata": {
    "vscode": {
     "languageId": "html"
    }
   },
   "outputs": [
    {
     "ename": "IndentationError",
     "evalue": "unindent does not match any outer indentation level (<tokenize>, line 6)",
     "output_type": "error",
     "traceback": [
      "\u001b[1;36m  File \u001b[1;32m<tokenize>:6\u001b[1;36m\u001b[0m\n\u001b[1;33m    </form>\u001b[0m\n\u001b[1;37m    ^\u001b[0m\n\u001b[1;31mIndentationError\u001b[0m\u001b[1;31m:\u001b[0m unindent does not match any outer indentation level\n"
     ]
    }
   ],
   "source": [
    "<form>\n",
    "    <label for=\"fname\">First name:</label><br>\n",
    "    <input type=\"text\" id=\"fname\" name=\"fname\"><br>\n",
    "    <label for=\"lname\">Last name:</label><br>\n",
    "    <input type=\"text\" id=\"lname\" name=\"lname\">\n",
    "  </form>"
   ]
  },
  {
   "attachments": {},
   "cell_type": "markdown",
   "metadata": {},
   "source": [
    "<form>\n",
    "  <label for=\"fname\">First name:</label><br>\n",
    "  <input type=\"text\" id=\"fname\" name=\"fname\"><br>\n",
    "  <label for=\"lname\">Last name:</label><br>\n",
    "  <input type=\"text\" id=\"lname\" name=\"lname\">\n",
    "</form>"
   ]
  },
  {
   "cell_type": "markdown",
   "metadata": {},
   "source": []
  }
 ],
 "metadata": {
  "kernelspec": {
   "display_name": "Python 3",
   "language": "python",
   "name": "python3"
  },
  "language_info": {
   "codemirror_mode": {
    "name": "ipython",
    "version": 3
   },
   "file_extension": ".py",
   "mimetype": "text/x-python",
   "name": "python",
   "nbconvert_exporter": "python",
   "pygments_lexer": "ipython3",
   "version": "3.10.9"
  },
  "orig_nbformat": 4,
  "vscode": {
   "interpreter": {
    "hash": "62c9f4c7c740e03784f2d670a4e1263780c826155fba9aec82210728005883b5"
   }
  }
 },
 "nbformat": 4,
 "nbformat_minor": 2
}
